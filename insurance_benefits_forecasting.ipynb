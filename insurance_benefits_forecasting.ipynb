{
 "cells": [
  {
   "cell_type": "markdown",
   "metadata": {},
   "source": [
    "# Descripción"
   ]
  },
  {
   "cell_type": "markdown",
   "metadata": {},
   "source": [
    "La compañía de seguros Sure Tomorrow quiere resolver varias tareas con la ayuda de machine learning y te pide que evalúes esa posibilidad.\n",
    "- Tarea 1: encontrar clientes que sean similares a un cliente determinado. Esto ayudará a los agentes de la compañía con el marketing.\n",
    "- Tarea 2: predecir la probabilidad de que un nuevo cliente reciba una prestación del seguro. ¿Puede un modelo de predictivo funcionar mejor que un modelo dummy?\n",
    "- Tarea 3: predecir el número de prestaciones de seguro que un nuevo cliente pueda recibir utilizando un modelo de regresión lineal.\n",
    "- Tarea 4: proteger los datos personales de los clientes sin afectar al modelo del ejercicio anterior. Es necesario desarrollar un algoritmo de transformación de datos que dificulte la recuperación de la información personal si los datos caen en manos equivocadas. Esto se denomina enmascaramiento u ofuscación de datos. Pero los datos deben protegerse de tal manera que no se vea afectada la calidad de los modelos de machine learning. No es necesario elegir el mejor modelo, basta con demostrar que el algoritmo funciona correctamente.\n"
   ]
  },
  {
   "cell_type": "markdown",
   "metadata": {},
   "source": [
    "# Preprocesamiento y exploración de datos\n",
    "\n",
    "## Inicialización"
   ]
  },
  {
   "cell_type": "code",
   "execution_count": 1,
   "metadata": {},
   "outputs": [
    {
     "name": "stdout",
     "output_type": "stream",
     "text": [
      "Requirement already satisfied: scikit-learn in /opt/conda/envs/python3/lib/python3.9/site-packages (0.24.1)\n",
      "Collecting scikit-learn\n",
      "  Downloading scikit_learn-1.5.2-cp39-cp39-manylinux_2_17_x86_64.manylinux2014_x86_64.whl.metadata (13 kB)\n",
      "Requirement already satisfied: numpy>=1.19.5 in /opt/conda/envs/python3/lib/python3.9/site-packages (from scikit-learn) (1.21.2)\n",
      "Requirement already satisfied: scipy>=1.6.0 in /opt/conda/envs/python3/lib/python3.9/site-packages (from scikit-learn) (1.10.1)\n",
      "Requirement already satisfied: joblib>=1.2.0 in /opt/conda/envs/python3/lib/python3.9/site-packages (from scikit-learn) (1.4.2)\n",
      "Requirement already satisfied: threadpoolctl>=3.1.0 in /opt/conda/envs/python3/lib/python3.9/site-packages (from scikit-learn) (3.5.0)\n",
      "Downloading scikit_learn-1.5.2-cp39-cp39-manylinux_2_17_x86_64.manylinux2014_x86_64.whl (13.4 MB)\n",
      "\u001b[2K   \u001b[90m━━━━━━━━━━━━━━━━━━━━━━━━━━━━━━━━━━━━━━━━\u001b[0m \u001b[32m13.4/13.4 MB\u001b[0m \u001b[31m89.9 MB/s\u001b[0m eta \u001b[36m0:00:00\u001b[0m:00:01\u001b[0m0:01\u001b[0m\n",
      "\u001b[?25hInstalling collected packages: scikit-learn\n",
      "Successfully installed scikit-learn-1.5.2\n",
      "Note: you may need to restart the kernel to use updated packages.\n",
      "0.24.1\n"
     ]
    }
   ],
   "source": [
    "%pip install --user scikit-learn --upgrade\n",
    "import sklearn\n",
    "print(sklearn.__version__)"
   ]
  },
  {
   "cell_type": "code",
   "execution_count": 2,
   "metadata": {},
   "outputs": [],
   "source": [
    "import numpy as np\n",
    "import pandas as pd\n",
    "import math\n",
    "\n",
    "import seaborn as sns\n",
    "\n",
    "import sklearn.linear_model\n",
    "import sklearn.metrics\n",
    "import sklearn.neighbors\n",
    "import sklearn.preprocessing\n",
    "\n",
    "from sklearn.model_selection import train_test_split\n",
    "from sklearn.neighbors import NearestNeighbors\n",
    "from sklearn.metrics import f1_score, confusion_matrix\n",
    "from sklearn.preprocessing import StandardScaler\n",
    "from sklearn.neighbors import KNeighborsClassifier\n",
    "from sklearn.model_selection import train_test_split\n",
    "from sklearn.preprocessing import StandardScaler\n",
    "from sklearn.metrics import mean_squared_error, r2_score\n",
    "from sklearn.linear_model import LinearRegression\n",
    "\n",
    "from IPython.display import display"
   ]
  },
  {
   "cell_type": "markdown",
   "metadata": {},
   "source": [
    "## Carga de datos"
   ]
  },
  {
   "cell_type": "markdown",
   "metadata": {},
   "source": [
    "Carga los datos y haz una revisión básica para comprobar que no hay problemas obvios."
   ]
  },
  {
   "cell_type": "code",
   "execution_count": 3,
   "metadata": {},
   "outputs": [],
   "source": [
    "df = pd.read_csv('/datasets/insurance_us.csv')"
   ]
  },
  {
   "cell_type": "markdown",
   "metadata": {},
   "source": [
    "Renombramos las columnas para que el código se vea más coherente con su estilo."
   ]
  },
  {
   "cell_type": "code",
   "execution_count": 4,
   "metadata": {},
   "outputs": [],
   "source": [
    "df = df.rename(columns={'Gender': 'gender', 'Age': 'age', 'Salary': 'income', 'Family members': 'family_members', 'Insurance benefits': 'insurance_benefits'})"
   ]
  },
  {
   "cell_type": "code",
   "execution_count": 5,
   "metadata": {},
   "outputs": [
    {
     "data": {
      "text/html": [
       "<div>\n",
       "<style scoped>\n",
       "    .dataframe tbody tr th:only-of-type {\n",
       "        vertical-align: middle;\n",
       "    }\n",
       "\n",
       "    .dataframe tbody tr th {\n",
       "        vertical-align: top;\n",
       "    }\n",
       "\n",
       "    .dataframe thead th {\n",
       "        text-align: right;\n",
       "    }\n",
       "</style>\n",
       "<table border=\"1\" class=\"dataframe\">\n",
       "  <thead>\n",
       "    <tr style=\"text-align: right;\">\n",
       "      <th></th>\n",
       "      <th>gender</th>\n",
       "      <th>age</th>\n",
       "      <th>income</th>\n",
       "      <th>family_members</th>\n",
       "      <th>insurance_benefits</th>\n",
       "    </tr>\n",
       "  </thead>\n",
       "  <tbody>\n",
       "    <tr>\n",
       "      <th>907</th>\n",
       "      <td>0</td>\n",
       "      <td>19.0</td>\n",
       "      <td>37800.0</td>\n",
       "      <td>2</td>\n",
       "      <td>0</td>\n",
       "    </tr>\n",
       "    <tr>\n",
       "      <th>1830</th>\n",
       "      <td>0</td>\n",
       "      <td>22.0</td>\n",
       "      <td>44100.0</td>\n",
       "      <td>1</td>\n",
       "      <td>0</td>\n",
       "    </tr>\n",
       "    <tr>\n",
       "      <th>1121</th>\n",
       "      <td>0</td>\n",
       "      <td>33.0</td>\n",
       "      <td>38500.0</td>\n",
       "      <td>2</td>\n",
       "      <td>0</td>\n",
       "    </tr>\n",
       "    <tr>\n",
       "      <th>4052</th>\n",
       "      <td>0</td>\n",
       "      <td>32.0</td>\n",
       "      <td>48700.0</td>\n",
       "      <td>2</td>\n",
       "      <td>0</td>\n",
       "    </tr>\n",
       "    <tr>\n",
       "      <th>1892</th>\n",
       "      <td>0</td>\n",
       "      <td>29.0</td>\n",
       "      <td>37000.0</td>\n",
       "      <td>1</td>\n",
       "      <td>0</td>\n",
       "    </tr>\n",
       "    <tr>\n",
       "      <th>2345</th>\n",
       "      <td>0</td>\n",
       "      <td>25.0</td>\n",
       "      <td>49400.0</td>\n",
       "      <td>1</td>\n",
       "      <td>0</td>\n",
       "    </tr>\n",
       "    <tr>\n",
       "      <th>4943</th>\n",
       "      <td>1</td>\n",
       "      <td>41.0</td>\n",
       "      <td>44100.0</td>\n",
       "      <td>0</td>\n",
       "      <td>0</td>\n",
       "    </tr>\n",
       "    <tr>\n",
       "      <th>1698</th>\n",
       "      <td>0</td>\n",
       "      <td>33.0</td>\n",
       "      <td>41200.0</td>\n",
       "      <td>1</td>\n",
       "      <td>0</td>\n",
       "    </tr>\n",
       "    <tr>\n",
       "      <th>4629</th>\n",
       "      <td>1</td>\n",
       "      <td>31.0</td>\n",
       "      <td>29800.0</td>\n",
       "      <td>0</td>\n",
       "      <td>0</td>\n",
       "    </tr>\n",
       "    <tr>\n",
       "      <th>669</th>\n",
       "      <td>0</td>\n",
       "      <td>37.0</td>\n",
       "      <td>44900.0</td>\n",
       "      <td>1</td>\n",
       "      <td>0</td>\n",
       "    </tr>\n",
       "  </tbody>\n",
       "</table>\n",
       "</div>"
      ],
      "text/plain": [
       "      gender   age   income  family_members  insurance_benefits\n",
       "907        0  19.0  37800.0               2                   0\n",
       "1830       0  22.0  44100.0               1                   0\n",
       "1121       0  33.0  38500.0               2                   0\n",
       "4052       0  32.0  48700.0               2                   0\n",
       "1892       0  29.0  37000.0               1                   0\n",
       "2345       0  25.0  49400.0               1                   0\n",
       "4943       1  41.0  44100.0               0                   0\n",
       "1698       0  33.0  41200.0               1                   0\n",
       "4629       1  31.0  29800.0               0                   0\n",
       "669        0  37.0  44900.0               1                   0"
      ]
     },
     "execution_count": 5,
     "metadata": {},
     "output_type": "execute_result"
    }
   ],
   "source": [
    "df.sample(10)"
   ]
  },
  {
   "cell_type": "code",
   "execution_count": 6,
   "metadata": {},
   "outputs": [
    {
     "name": "stdout",
     "output_type": "stream",
     "text": [
      "<class 'pandas.core.frame.DataFrame'>\n",
      "RangeIndex: 5000 entries, 0 to 4999\n",
      "Data columns (total 5 columns):\n",
      " #   Column              Non-Null Count  Dtype  \n",
      "---  ------              --------------  -----  \n",
      " 0   gender              5000 non-null   int64  \n",
      " 1   age                 5000 non-null   float64\n",
      " 2   income              5000 non-null   float64\n",
      " 3   family_members      5000 non-null   int64  \n",
      " 4   insurance_benefits  5000 non-null   int64  \n",
      "dtypes: float64(2), int64(3)\n",
      "memory usage: 195.4 KB\n"
     ]
    }
   ],
   "source": [
    "df.info()"
   ]
  },
  {
   "cell_type": "code",
   "execution_count": 7,
   "metadata": {},
   "outputs": [],
   "source": [
    "# puede que queramos cambiar el tipo de edad (de float a int) aunque esto no es crucial\n",
    "\n",
    "# escribe tu conversión aquí si lo deseas:\n",
    "df['age'] = df['age'].astype(int)"
   ]
  },
  {
   "cell_type": "code",
   "execution_count": 8,
   "metadata": {},
   "outputs": [
    {
     "name": "stdout",
     "output_type": "stream",
     "text": [
      "<class 'pandas.core.frame.DataFrame'>\n",
      "RangeIndex: 5000 entries, 0 to 4999\n",
      "Data columns (total 5 columns):\n",
      " #   Column              Non-Null Count  Dtype  \n",
      "---  ------              --------------  -----  \n",
      " 0   gender              5000 non-null   int64  \n",
      " 1   age                 5000 non-null   int64  \n",
      " 2   income              5000 non-null   float64\n",
      " 3   family_members      5000 non-null   int64  \n",
      " 4   insurance_benefits  5000 non-null   int64  \n",
      "dtypes: float64(1), int64(4)\n",
      "memory usage: 195.4 KB\n"
     ]
    }
   ],
   "source": [
    "# comprueba que la conversión se haya realizado con éxito\n",
    "df.info()"
   ]
  },
  {
   "cell_type": "code",
   "execution_count": 9,
   "metadata": {},
   "outputs": [
    {
     "name": "stdout",
     "output_type": "stream",
     "text": [
      "            gender          age        income  family_members  \\\n",
      "count  5000.000000  5000.000000   5000.000000     5000.000000   \n",
      "mean      0.499000    30.952800  39916.360000        1.194200   \n",
      "std       0.500049     8.440807   9900.083569        1.091387   \n",
      "min       0.000000    18.000000   5300.000000        0.000000   \n",
      "25%       0.000000    24.000000  33300.000000        0.000000   \n",
      "50%       0.000000    30.000000  40200.000000        1.000000   \n",
      "75%       1.000000    37.000000  46600.000000        2.000000   \n",
      "max       1.000000    65.000000  79000.000000        6.000000   \n",
      "\n",
      "       insurance_benefits  \n",
      "count         5000.000000  \n",
      "mean             0.148000  \n",
      "std              0.463183  \n",
      "min              0.000000  \n",
      "25%              0.000000  \n",
      "50%              0.000000  \n",
      "75%              0.000000  \n",
      "max              5.000000  \n"
     ]
    }
   ],
   "source": [
    "# ahora echa un vistazo a las estadísticas descriptivas de los datos.# ¿Se ve todo bien?\n",
    "print(df.describe())"
   ]
  },
  {
   "cell_type": "code",
   "execution_count": 10,
   "metadata": {},
   "outputs": [
    {
     "name": "stdout",
     "output_type": "stream",
     "text": [
      "Valores únicos en 'gender': [1 0]\n"
     ]
    },
    {
     "data": {
      "image/png": "[encoded data removed]",
      "text/plain": [
       "<Figure size 1000x600 with 1 Axes>"
      ]
     },
     "metadata": {},
     "output_type": "display_data"
    },
    {
     "name": "stdout",
     "output_type": "stream",
     "text": [
      "Conteo de valores en 'family_members':\n",
      "1    1814\n",
      "0    1513\n",
      "2    1071\n",
      "3     439\n",
      "4     124\n",
      "5      32\n",
      "6       7\n",
      "Name: family_members, dtype: int64\n"
     ]
    },
    {
     "data": {
      "image/png": "[encoded data removed]",
      "text/plain": [
       "<Figure size 1000x600 with 1 Axes>"
      ]
     },
     "metadata": {},
     "output_type": "display_data"
    }
   ],
   "source": [
    "import matplotlib.pyplot as plt\n",
    "import seaborn as sns\n",
    "\n",
    "print(\"Valores únicos en 'gender':\", df['gender'].unique())\n",
    "\n",
    "# Punto 2: Visualizar la distribución de `income`\n",
    "plt.figure(figsize=(10, 6))\n",
    "sns.histplot(df['income'], kde=True)\n",
    "plt.title('Distribución de Income')\n",
    "plt.xlabel('Income')\n",
    "plt.ylabel('Frecuencia')\n",
    "plt.show()\n",
    "\n",
    "# Punto 3: Contar valores en `family_members` para revisar si hay clientes con 0 familiares\n",
    "print(\"Conteo de valores en 'family_members':\")\n",
    "print(df['family_members'].value_counts())\n",
    "\n",
    "# Punto 4: Visualizar la distribución de `insurance_benefits` para observar el desbalance\n",
    "plt.figure(figsize=(10, 6))\n",
    "sns.countplot(x='insurance_benefits', data=df)\n",
    "plt.title('Distribución de Insurance Benefits')\n",
    "plt.xlabel('Insurance Benefits')\n",
    "plt.ylabel('Frecuencia')\n",
    "plt.show()"
   ]
  },
  {
   "cell_type": "markdown",
   "metadata": {},
   "source": [
    "# Conclusiones de las variables descriptivas\n",
    "\n",
    "Gender: Solo contiene valores como 0 y 1, esto confirmaría que es una variable binaria.\n",
    "\n",
    "Distribución de Income: La distribución es bastante simétrica y tiene una ligera asimetría hacia la derecha\n",
    "\n",
    "Family Members: Hay un número considerable de clientes con 0 familiares (1,513 registros), lo cual es un dato a tener en cuenta.\n",
    "\n",
    "Distribución de Insurance Benefits: La mayoría de los clientes (más de 4,000) no han recibido ningún beneficio de seguro. Esto indica un desbalance significativo en la variable objetivo (insurance_benefits)"
   ]
  },
  {
   "cell_type": "markdown",
   "metadata": {},
   "source": [
    "## Análisis exploratorio de datos"
   ]
  },
  {
   "cell_type": "markdown",
   "metadata": {},
   "source": [
    "Vamos a comprobar rápidamente si existen determinados grupos de clientes observando el gráfico de pares."
   ]
  },
  {
   "cell_type": "code",
   "execution_count": 11,
   "metadata": {},
   "outputs": [
    {
     "data": {
      "image/png": "[encoded data removed]",
      "text/plain": [
       "<Figure size 1200x1200 with 30 Axes>"
      ]
     },
     "metadata": {},
     "output_type": "display_data"
    }
   ],
   "source": [
    "g = sns.pairplot(df, kind='hist')\n",
    "g.fig.set_size_inches(12, 12)"
   ]
  },
  {
   "cell_type": "markdown",
   "metadata": {},
   "source": [
    "De acuerdo, es un poco complicado detectar grupos obvios (clústeres) ya que es difícil combinar diversas variables simultáneamente (para analizar distribuciones multivariadas). Ahí es donde LA y ML pueden ser bastante útiles."
   ]
  },
  {
   "cell_type": "markdown",
   "metadata": {},
   "source": [
    "# Tarea 1. Clientes similares"
   ]
  },
  {
   "cell_type": "markdown",
   "metadata": {},
   "source": [
    "En el lenguaje de ML, es necesario desarrollar un procedimiento que devuelva los k vecinos más cercanos (objetos) para un objeto dado basándose en la distancia entre los objetos.\n",
    "Es posible que quieras revisar las siguientes lecciones (capítulo -> lección)- Distancia entre vectores -> Distancia euclidiana\n",
    "- Distancia entre vectores -> Distancia Manhattan\n",
    "\n",
    "Para resolver la tarea, podemos probar diferentes métricas de distancia."
   ]
  },
  {
   "cell_type": "markdown",
   "metadata": {},
   "source": [
    "Escribe una función que devuelva los k vecinos más cercanos para un $n^{th}$ objeto basándose en una métrica de distancia especificada. A la hora de realizar esta tarea no debe tenerse en cuenta el número de prestaciones de seguro recibidas.\n",
    "Puedes utilizar una implementación ya existente del algoritmo kNN de scikit-learn (consulta [el enlace](https://scikit-learn.org/stable/modules/generated/sklearn.neighbors.NearestNeighbors.html#sklearn.neighbors.NearestNeighbors)) o tu propia implementación.\n",
    "Pruébalo para cuatro combinaciones de dos casos- Escalado\n",
    "  - los datos no están escalados\n",
    "  - los datos se escalan con el escalador [MaxAbsScaler](https://scikit-learn.org/stable/modules/generated/sklearn.preprocessing.MaxAbsScaler.html)\n",
    "- Métricas de distancia\n",
    "  - Euclidiana\n",
    "  - Manhattan\n",
    "\n",
    "Responde a estas preguntas:- ¿El hecho de que los datos no estén escalados afecta al algoritmo kNN? Si es así, ¿cómo se manifiesta?- ¿Qué tan similares son los resultados al utilizar la métrica de distancia Manhattan (independientemente del escalado)?"
   ]
  },
  {
   "cell_type": "code",
   "execution_count": 12,
   "metadata": {},
   "outputs": [],
   "source": [
    "feature_names = ['gender', 'age', 'income', 'family_members']"
   ]
  },
  {
   "cell_type": "code",
   "execution_count": 13,
   "metadata": {},
   "outputs": [],
   "source": [
    "def get_knn(df, n, k, metric):\n",
    "    \n",
    "    \"\"\"\n",
    "    Devuelve los k vecinos más cercanos\n",
    "\n",
    "    :param df: DataFrame de pandas utilizado para encontrar objetos similares dentro del mismo lugar    \n",
    "    :param n: número de objetos para los que se buscan los vecinos más cercanos    \n",
    "    :param k: número de vecinos más cercanos a devolver\n",
    "    :param métrica: nombre de la métrica de distancia    \"\"\"\n",
    "\n",
    "    nbrs = NearestNeighbors(n_neighbors=k, metric=metric)\n",
    "    nbrs.fit(df[feature_names].values)\n",
    "    nbrs_distances, nbrs_indices = nbrs.kneighbors([df.iloc[n][feature_names].values], return_distance=True)\n",
    "    \n",
    "    # Creación de un DataFrame con los resultados\n",
    "    df_res = pd.concat([\n",
    "        df.iloc[nbrs_indices[0]], \n",
    "        pd.DataFrame(nbrs_distances.T, index=nbrs_indices[0], columns=['distance'])\n",
    "        ], axis=1)\n",
    "    \n",
    "    return df_res"
   ]
  },
  {
   "cell_type": "markdown",
   "metadata": {},
   "source": [
    "Escalar datos."
   ]
  },
  {
   "cell_type": "code",
   "execution_count": 14,
   "metadata": {},
   "outputs": [],
   "source": [
    "feature_names = ['gender', 'age', 'income', 'family_members']\n",
    "\n",
    "transformer_mas = sklearn.preprocessing.MaxAbsScaler().fit(df[feature_names].to_numpy())\n",
    "\n",
    "df_scaled = df.copy()\n",
    "df_scaled.loc[:, feature_names] = transformer_mas.transform(df[feature_names].to_numpy())"
   ]
  },
  {
   "cell_type": "code",
   "execution_count": 15,
   "metadata": {},
   "outputs": [
    {
     "data": {
      "text/html": [
       "<div>\n",
       "<style scoped>\n",
       "    .dataframe tbody tr th:only-of-type {\n",
       "        vertical-align: middle;\n",
       "    }\n",
       "\n",
       "    .dataframe tbody tr th {\n",
       "        vertical-align: top;\n",
       "    }\n",
       "\n",
       "    .dataframe thead th {\n",
       "        text-align: right;\n",
       "    }\n",
       "</style>\n",
       "<table border=\"1\" class=\"dataframe\">\n",
       "  <thead>\n",
       "    <tr style=\"text-align: right;\">\n",
       "      <th></th>\n",
       "      <th>gender</th>\n",
       "      <th>age</th>\n",
       "      <th>income</th>\n",
       "      <th>family_members</th>\n",
       "      <th>insurance_benefits</th>\n",
       "    </tr>\n",
       "  </thead>\n",
       "  <tbody>\n",
       "    <tr>\n",
       "      <th>893</th>\n",
       "      <td>0.0</td>\n",
       "      <td>0.615385</td>\n",
       "      <td>0.694937</td>\n",
       "      <td>0.666667</td>\n",
       "      <td>0</td>\n",
       "    </tr>\n",
       "    <tr>\n",
       "      <th>339</th>\n",
       "      <td>1.0</td>\n",
       "      <td>0.830769</td>\n",
       "      <td>0.448101</td>\n",
       "      <td>0.000000</td>\n",
       "      <td>2</td>\n",
       "    </tr>\n",
       "    <tr>\n",
       "      <th>1408</th>\n",
       "      <td>0.0</td>\n",
       "      <td>0.538462</td>\n",
       "      <td>0.478481</td>\n",
       "      <td>0.000000</td>\n",
       "      <td>0</td>\n",
       "    </tr>\n",
       "    <tr>\n",
       "      <th>676</th>\n",
       "      <td>1.0</td>\n",
       "      <td>0.569231</td>\n",
       "      <td>0.788608</td>\n",
       "      <td>0.166667</td>\n",
       "      <td>0</td>\n",
       "    </tr>\n",
       "    <tr>\n",
       "      <th>1687</th>\n",
       "      <td>0.0</td>\n",
       "      <td>0.492308</td>\n",
       "      <td>0.405063</td>\n",
       "      <td>0.333333</td>\n",
       "      <td>0</td>\n",
       "    </tr>\n",
       "  </tbody>\n",
       "</table>\n",
       "</div>"
      ],
      "text/plain": [
       "      gender       age    income  family_members  insurance_benefits\n",
       "893      0.0  0.615385  0.694937        0.666667                   0\n",
       "339      1.0  0.830769  0.448101        0.000000                   2\n",
       "1408     0.0  0.538462  0.478481        0.000000                   0\n",
       "676      1.0  0.569231  0.788608        0.166667                   0\n",
       "1687     0.0  0.492308  0.405063        0.333333                   0"
      ]
     },
     "execution_count": 15,
     "metadata": {},
     "output_type": "execute_result"
    }
   ],
   "source": [
    "df_scaled.sample(5)"
   ]
  },
  {
   "cell_type": "markdown",
   "metadata": {},
   "source": [
    "Ahora, vamos a obtener registros similares para uno determinado, para cada combinación"
   ]
  },
  {
   "cell_type": "code",
   "execution_count": 16,
   "metadata": {},
   "outputs": [
    {
     "name": "stdout",
     "output_type": "stream",
     "text": [
      "      gender       age    income  family_members  insurance_benefits  distance\n",
      "0        1.0  0.630769  0.627848        0.166667                   0  0.000000\n",
      "2689     1.0  0.630769  0.634177        0.166667                   0  0.006329\n",
      "133      1.0  0.615385  0.636709        0.166667                   0  0.017754\n",
      "4869     1.0  0.646154  0.637975        0.166667                   1  0.018418\n",
      "3275     1.0  0.646154  0.651899        0.166667                   1  0.028550\n"
     ]
    }
   ],
   "source": [
    "# Ejemplo de uso: encontrar los 5 vecinos más cercanos al cliente en el índice 0 usando distancia Euclidiana en el conjunto escalado\n",
    "n = 0  # Índice del cliente para el cual queremos encontrar vecinos\n",
    "k = 5  # Número de vecinos más cercanos\n",
    "metric = \"euclidean\"  # Métrica de distancia\n",
    "\n",
    "# Obtener vecinos\n",
    "result = get_knn(df_scaled, n, k, metric)\n",
    "print(result)"
   ]
  },
  {
   "cell_type": "code",
   "execution_count": 17,
   "metadata": {},
   "outputs": [
    {
     "name": "stdout",
     "output_type": "stream",
     "text": [
      "      gender       age    income  family_members  insurance_benefits  distance\n",
      "0        1.0  0.630769  0.627848        0.166667                   0  0.000000\n",
      "2689     1.0  0.630769  0.634177        0.166667                   0  0.006329\n",
      "133      1.0  0.615385  0.636709        0.166667                   0  0.024245\n",
      "4869     1.0  0.646154  0.637975        0.166667                   1  0.025511\n",
      "3365     1.0  0.630769  0.596203        0.166667                   0  0.031646\n"
     ]
    }
   ],
   "source": [
    "n = 0  # Índice del cliente para el cual queremos encontrar vecinos\n",
    "k = 5  # Número de vecinos más cercanos\n",
    "metric = \"manhattan\"  # Métrica de distancia\n",
    "\n",
    "# Obtener vecinos usando distancia Manhattan\n",
    "result = get_knn(df_scaled, n, k, metric)\n",
    "print(result)"
   ]
  },
  {
   "cell_type": "markdown",
   "metadata": {},
   "source": [
    "Respuestas a las preguntas"
   ]
  },
  {
   "cell_type": "markdown",
   "metadata": {},
   "source": [
    "**¿El hecho de que los datos no estén escalados afecta al algoritmo kNN? Si es así, ¿cómo se manifiesta?** \n",
    "\n",
    "Si, la importancia del escalado de los datos afecta el rendimiento del algoritmo. Sin escalado, las características con valores numéricos más grandes son las que  el algoritmo kNN podría priorizar y pueden que pierdan la influencia de las características con valores más pequeños"
   ]
  },
  {
   "cell_type": "markdown",
   "metadata": {},
   "source": [
    "**¿Qué tan similares son los resultados al utilizar la métrica de distancia Manhattan (independientemente del escalado)?** \n",
    "\n",
    "Los resultados en su mayoría son similares aunque pueden variar un poco como en este caso los 4 vecinos mas cercanos son los mismo aunque el quinto cambia, además las madidas de algunas distancias tambien cambian ya que  los valores de distancia serán diferentes debido a la forma en que cada métrica mide la distancia. La métrica Euclidiana mide la distancia directa en el espacio (en diagonal), mientras que Manhattan mide la distancia \"en línea recta\", sumando las distancias en cada dimensión."
   ]
  },
  {
   "cell_type": "markdown",
   "metadata": {},
   "source": [
    "# Tarea 2. ¿Es probable que el cliente reciba una prestación del seguro?"
   ]
  },
  {
   "cell_type": "markdown",
   "metadata": {},
   "source": [
    "En términos de machine learning podemos considerarlo como una tarea de clasificación binaria."
   ]
  },
  {
   "cell_type": "markdown",
   "metadata": {},
   "source": [
    "Con el valor de `insurance_benefits` superior a cero como objetivo, evalúa si el enfoque de clasificación kNN puede funcionar mejor que el modelo dummy.\n",
    "Instrucciones:\n",
    "- Construye un clasificador basado en KNN y mide su calidad con la métrica F1 para k=1...10 tanto para los datos originales como para los escalados. Sería interesante observar cómo k puede influir en la métrica de evaluación y si el escalado de los datos provoca alguna diferencia. Puedes utilizar una implementación ya existente del algoritmo de clasificación kNN de scikit-learn (consulta [el enlace](https://scikit-learn.org/stable/modules/generated/sklearn.neighbors.KNeighborsClassifier.html)) o tu propia implementación.- Construye un modelo dummy que, en este caso, es simplemente un modelo aleatorio. Debería devolver \"1\" con cierta probabilidad. Probemos el modelo con cuatro valores de probabilidad: 0, la probabilidad de pagar cualquier prestación del seguro, 0.5, 1.\n",
    "La probabilidad de pagar cualquier prestación del seguro puede definirse como\n",
    "$$\n",
    "P\\{\\text{prestación de seguro recibida}\\}=\\frac{\\text{número de clientes que han recibido alguna prestación de seguro}}{\\text{número total de clientes}}.\n",
    "$$\n",
    "\n",
    "Divide todos los datos correspondientes a las etapas de entrenamiento/prueba respetando la proporción 70:30."
   ]
  },
  {
   "cell_type": "code",
   "execution_count": 18,
   "metadata": {},
   "outputs": [],
   "source": [
    "# сalcula el objetivo\n",
    "df['insurance_benefits_received'] = (df['insurance_benefits'] > 0).astype(int)"
   ]
  },
  {
   "cell_type": "code",
   "execution_count": 19,
   "metadata": {},
   "outputs": [
    {
     "name": "stdout",
     "output_type": "stream",
     "text": [
      "Distribución de la variable objetivo (insurance_benefits_received):\n",
      "0    4436\n",
      "1     564\n",
      "Name: insurance_benefits_received, dtype: int64\n"
     ]
    }
   ],
   "source": [
    "# comprueba el desequilibrio de clases con value_counts()\n",
    "\n",
    "# <tu código aquí>\n",
    "print(\"Distribución de la variable objetivo (insurance_benefits_received):\")\n",
    "print(df['insurance_benefits_received'].value_counts())"
   ]
  },
  {
   "cell_type": "code",
   "execution_count": 20,
   "metadata": {},
   "outputs": [],
   "source": [
    "def eval_classifier(y_true, y_pred):\n",
    "    \n",
    "    f1_score = sklearn.metrics.f1_score(y_true, y_pred)\n",
    "    print(f'F1: {f1_score:.2f}')\n",
    "    \n",
    "# si tienes algún problema con la siguiente línea, reinicia el kernel y ejecuta el cuaderno de nuevo    cm = sklearn.metrics.confusion_matrix(y_true, y_pred, normalize='all')\n",
    "    cm = confusion_matrix(y_true, y_pred)\n",
    "    print('Matriz de confusión')\n",
    "    print(cm)"
   ]
  },
  {
   "cell_type": "code",
   "execution_count": 21,
   "metadata": {},
   "outputs": [],
   "source": [
    "# generar la salida de un modelo aleatorio\n",
    "\n",
    "def rnd_model_predict(P, size, seed=42):\n",
    "\n",
    "    rng = np.random.default_rng(seed=seed)\n",
    "    return rng.binomial(n=1, p=P, size=size)"
   ]
  },
  {
   "cell_type": "code",
   "execution_count": 22,
   "metadata": {},
   "outputs": [
    {
     "name": "stdout",
     "output_type": "stream",
     "text": [
      "Probabilidad de predicción aleatoria: 0.11\n",
      "F1: 0.12\n",
      "Matriz de confusión\n",
      "[[3957  479]\n",
      " [ 497   67]]\n",
      "\n",
      "Probabilidad de predicción aleatoria: 0.50\n",
      "F1: 0.20\n",
      "Matriz de confusión\n",
      "[[2280 2156]\n",
      " [ 265  299]]\n",
      "\n",
      "Probabilidad de predicción aleatoria: 1.00\n",
      "F1: 0.20\n",
      "Matriz de confusión\n",
      "[[   0 4436]\n",
      " [   0  564]]\n",
      "\n"
     ]
    }
   ],
   "source": [
    "for P in [df['insurance_benefits_received'].mean(), 0.5, 1]:\n",
    "    print(f'Probabilidad de predicción aleatoria: {P:.2f}')\n",
    "    y_pred_rnd = rnd_model_predict(P, size=len(df['insurance_benefits_received']))\n",
    "    \n",
    "    # Evaluar el modelo aleatorio\n",
    "    eval_classifier(df['insurance_benefits_received'], y_pred_rnd)\n",
    "    print()"
   ]
  },
  {
   "cell_type": "code",
   "execution_count": 23,
   "metadata": {},
   "outputs": [],
   "source": [
    "# Definición de los datos y el objetivo\n",
    "X = df[feature_names]\n",
    "y = df['insurance_benefits_received']\n",
    "\n",
    "# Divición de los datos en conjuntos de entrenamiento y prueba (70% - 30%)\n",
    "X_train, X_test, y_train, y_test = train_test_split(X, y, test_size=0.3, random_state=42)\n",
    "\n",
    "# Escalamiento de los datos\n",
    "scaler = StandardScaler()\n",
    "X_train_scaled = scaler.fit_transform(X_train)\n",
    "X_test_scaled = scaler.transform(X_test)"
   ]
  },
  {
   "cell_type": "code",
   "execution_count": 24,
   "metadata": {},
   "outputs": [
    {
     "name": "stdout",
     "output_type": "stream",
     "text": [
      "Resultados con datos sin escalar:\n",
      "Modelo kNN con k=1\n",
      "F1: 0.65\n",
      "Matriz de confusión\n",
      "[[1312   27]\n",
      " [  70   91]]\n",
      "\n",
      "Modelo kNN con k=2\n",
      "F1: 0.38\n",
      "Matriz de confusión\n",
      "[[1336    3]\n",
      " [ 123   38]]\n",
      "\n",
      "Modelo kNN con k=3\n",
      "F1: 0.39\n",
      "Matriz de confusión\n",
      "[[1325   14]\n",
      " [ 119   42]]\n",
      "\n",
      "Modelo kNN con k=4\n",
      "F1: 0.16\n",
      "Matriz de confusión\n",
      "[[1334    5]\n",
      " [ 147   14]]\n",
      "\n",
      "Modelo kNN con k=5\n",
      "F1: 0.17\n",
      "Matriz de confusión\n",
      "[[1325   14]\n",
      " [ 145   16]]\n",
      "\n",
      "Modelo kNN con k=6\n",
      "F1: 0.09\n",
      "Matriz de confusión\n",
      "[[1338    1]\n",
      " [ 153    8]]\n",
      "\n",
      "Modelo kNN con k=7\n",
      "F1: 0.12\n",
      "Matriz de confusión\n",
      "[[1337    2]\n",
      " [ 151   10]]\n",
      "\n",
      "Modelo kNN con k=8\n",
      "F1: 0.02\n",
      "Matriz de confusión\n",
      "[[1339    0]\n",
      " [ 159    2]]\n",
      "\n",
      "Modelo kNN con k=9\n",
      "F1: 0.04\n",
      "Matriz de confusión\n",
      "[[1339    0]\n",
      " [ 158    3]]\n",
      "\n",
      "Modelo kNN con k=10\n",
      "F1: 0.04\n",
      "Matriz de confusión\n",
      "[[1339    0]\n",
      " [ 158    3]]\n",
      "\n"
     ]
    }
   ],
   "source": [
    "# Evaluar kNN en datos sin escalar\n",
    "print(\"Resultados con datos sin escalar:\")\n",
    "for k in range(1, 11):\n",
    "    print(f\"Modelo kNN con k={k}\")\n",
    "    knn = KNeighborsClassifier(n_neighbors=k)\n",
    "    knn.fit(X_train, y_train)\n",
    "    y_pred_knn = knn.predict(X_test)\n",
    "    eval_classifier(y_test, y_pred_knn)\n",
    "    print()"
   ]
  },
  {
   "cell_type": "code",
   "execution_count": 25,
   "metadata": {},
   "outputs": [
    {
     "name": "stdout",
     "output_type": "stream",
     "text": [
      "Resultados con datos escalados:\n",
      "Modelo kNN con k=1\n",
      "F1: 0.93\n",
      "Matriz de confusión\n",
      "[[1332    7]\n",
      " [  14  147]]\n",
      "\n",
      "Modelo kNN con k=2\n",
      "F1: 0.92\n",
      "Matriz de confusión\n",
      "[[1336    3]\n",
      " [  22  139]]\n",
      "\n",
      "Modelo kNN con k=3\n",
      "F1: 0.94\n",
      "Matriz de confusión\n",
      "[[1334    5]\n",
      " [  15  146]]\n",
      "\n",
      "Modelo kNN con k=4\n",
      "F1: 0.91\n",
      "Matriz de confusión\n",
      "[[1337    2]\n",
      " [  24  137]]\n",
      "\n",
      "Modelo kNN con k=5\n",
      "F1: 0.94\n",
      "Matriz de confusión\n",
      "[[1334    5]\n",
      " [  14  147]]\n",
      "\n",
      "Modelo kNN con k=6\n",
      "F1: 0.91\n",
      "Matriz de confusión\n",
      "[[1337    2]\n",
      " [  24  137]]\n",
      "\n",
      "Modelo kNN con k=7\n",
      "F1: 0.94\n",
      "Matriz de confusión\n",
      "[[1335    4]\n",
      " [  16  145]]\n",
      "\n",
      "Modelo kNN con k=8\n",
      "F1: 0.91\n",
      "Matriz de confusión\n",
      "[[1338    1]\n",
      " [  25  136]]\n",
      "\n",
      "Modelo kNN con k=9\n",
      "F1: 0.93\n",
      "Matriz de confusión\n",
      "[[1337    2]\n",
      " [  18  143]]\n",
      "\n",
      "Modelo kNN con k=10\n",
      "F1: 0.92\n",
      "Matriz de confusión\n",
      "[[1338    1]\n",
      " [  22  139]]\n",
      "\n"
     ]
    }
   ],
   "source": [
    "# Evaluar kNN en datos escalados\n",
    "print(\"Resultados con datos escalados:\")\n",
    "for k in range(1, 11):\n",
    "    print(f\"Modelo kNN con k={k}\")\n",
    "    knn = KNeighborsClassifier(n_neighbors=k)\n",
    "    knn.fit(X_train_scaled, y_train)\n",
    "    y_pred_knn_scaled = knn.predict(X_test_scaled)\n",
    "    eval_classifier(y_test, y_pred_knn_scaled)\n",
    "    print()"
   ]
  },
  {
   "cell_type": "markdown",
   "metadata": {},
   "source": [
    "# Conclusión\n",
    "\n",
    "**Impacto del escalado:** El escalado de los datos tiene un cambio muy norotio en los resultados y rendimiento del modelo KNN, además que los datos sin escala el rendimeinto disminuye rapidamente a medida que aumenta el K. \n",
    "\n",
    "**Valor óptimo de k:** Para los datos escalados, los valores de k=3, k=5, y k=7 parecen ofrecer un rendimiento óptimo con un F1-score de 0.94."
   ]
  },
  {
   "cell_type": "markdown",
   "metadata": {},
   "source": [
    "# Tarea 3. Regresión (con regresión lineal)"
   ]
  },
  {
   "cell_type": "markdown",
   "metadata": {},
   "source": [
    "Con `insurance_benefits` como objetivo, evalúa cuál sería la RECM de un modelo de regresión lineal."
   ]
  },
  {
   "cell_type": "markdown",
   "metadata": {},
   "source": [
    "Construye tu propia implementación de regresión lineal. Para ello, recuerda cómo está formulada la solución de la tarea de regresión lineal en términos de LA. Comprueba la RECM tanto para los datos originales como para los escalados. ¿Puedes ver alguna diferencia en la RECM con respecto a estos dos casos?\n",
    "\n",
    "Denotemos- $X$: matriz de características; cada fila es un caso, cada columna es una característica, la primera columna está formada por unidades- $y$ — objetivo (un vector)- $\\hat{y}$ — objetivo estimado (un vector)- $w$ — vector de pesos\n",
    "La tarea de regresión lineal en el lenguaje de las matrices puede formularse así:\n",
    "$$\n",
    "y = Xw\n",
    "$$\n",
    "\n",
    "El objetivo de entrenamiento es entonces encontrar esa $w$ w que minimice la distancia L2 (ECM) entre $Xw$ y $y$:\n",
    "\n",
    "$$\n",
    "\\min_w d_2(Xw, y) \\quad \\text{or} \\quad \\min_w \\text{MSE}(Xw, y)\n",
    "$$\n",
    "\n",
    "Parece que hay una solución analítica para lo anteriormente expuesto:\n",
    "$$\n",
    "w = (X^T X)^{-1} X^T y\n",
    "$$\n",
    "\n",
    "La fórmula anterior puede servir para encontrar los pesos $w$ y estos últimos pueden utilizarse para calcular los valores predichos\n",
    "$$\n",
    "\\hat{y} = X_{val}w\n",
    "$$"
   ]
  },
  {
   "cell_type": "markdown",
   "metadata": {},
   "source": [
    "Divide todos los datos correspondientes a las etapas de entrenamiento/prueba respetando la proporción 70:30. Utiliza la métrica RECM para evaluar el modelo."
   ]
  },
  {
   "cell_type": "code",
   "execution_count": 26,
   "metadata": {},
   "outputs": [],
   "source": [
    "class MyLinearRegression:\n",
    "    \n",
    "    def __init__(self):\n",
    "        \n",
    "        self.weights = None\n",
    "    \n",
    "    def fit(self, X, y):\n",
    "        \n",
    "        # añadir las unidades\n",
    "        X2 = np.append(np.ones([len(X), 1]), X, axis=1)\n",
    "        self.weights = np.linalg.inv(X2.T.dot(X2)).dot(X2.T).dot(y) # <tu código aquí>\n",
    "\n",
    "    def predict(self, X):\n",
    "        \n",
    "        # añadir las unidades\n",
    "        X2 = np.append(np.ones((len(X), 1)), X, axis=1) # <tu código aquí>\n",
    "        y_pred = X2.dot(self.weights) # <tu código aquí>\n",
    "        \n",
    "        return y_pred"
   ]
  },
  {
   "cell_type": "code",
   "execution_count": 27,
   "metadata": {},
   "outputs": [],
   "source": [
    "def eval_regressor(y_true, y_pred):\n",
    "    rmse = math.sqrt(mean_squared_error(y_true, y_pred))\n",
    "    print(f\"RMSE: {rmse:.2f}\")\n",
    "    \n",
    "    r2 = r2_score(y_true, y_pred)\n",
    "    print(f\"R2: {r2:.2f}\") "
   ]
  },
  {
   "cell_type": "code",
   "execution_count": 28,
   "metadata": {},
   "outputs": [
    {
     "name": "stdout",
     "output_type": "stream",
     "text": [
      "Pesos del modelo: [-9.43539012e-01  3.57495491e-02  1.64272726e-02 -2.60743659e-07\n",
      " -1.16902127e-02]\n",
      "RMSE: 0.34\n",
      "R2: 0.43\n",
      "\n",
      "Evaluación en datos escalados:\n",
      "RMSE: 0.34\n",
      "R2: 0.43\n"
     ]
    }
   ],
   "source": [
    "# Definir X e y\n",
    "X = df[['age', 'gender', 'income', 'family_members']].to_numpy()\n",
    "y = df['insurance_benefits'].to_numpy()\n",
    "\n",
    "# Dividir los datos en entrenamiento y prueba\n",
    "X_train, X_test, y_train, y_test = train_test_split(X, y, test_size=0.3, random_state=12345)\n",
    "\n",
    "# Crear el modelo de regresión lineal y entrenarlo\n",
    "lr = MyLinearRegression()\n",
    "lr.fit(X_train, y_train)\n",
    "print(\"Pesos del modelo:\", lr.weights)\n",
    "\n",
    "# Predecir y evaluar en el conjunto de prueba\n",
    "y_test_pred = lr.predict(X_test)\n",
    "eval_regressor(y_test, y_test_pred)\n",
    "\n",
    "# Escalado de los datos\n",
    "scaler = StandardScaler()\n",
    "X_train_scaled = scaler.fit_transform(X_train)\n",
    "X_test_scaled = scaler.transform(X_test)\n",
    "\n",
    "# Entrenar el modelo en datos escalados y evaluar\n",
    "lr.fit(X_train_scaled, y_train)\n",
    "y_test_pred_scaled = lr.predict(X_test_scaled)\n",
    "print(\"\\nEvaluación en datos escalados:\")\n",
    "eval_regressor(y_test, y_test_pred_scaled)"
   ]
  },
  {
   "cell_type": "markdown",
   "metadata": {},
   "source": [
    "# Conclusión:\n",
    "\n",
    "En este caso en particular el escalar los datos no presenta ningún cambio en los resultados, lo cual es una observación útil sobre la naturaleza de los datos y la relación entre las características y el objetivo."
   ]
  },
  {
   "cell_type": "markdown",
   "metadata": {},
   "source": [
    "# Tarea 4. Ofuscar datos"
   ]
  },
  {
   "cell_type": "markdown",
   "metadata": {},
   "source": [
    "Lo mejor es ofuscar los datos multiplicando las características numéricas (recuerda que se pueden ver como la matriz $X$) por una matriz invertible $P$. \n",
    "\n",
    "$$\n",
    "X' = X \\times P\n",
    "$$\n",
    "\n",
    "Trata de hacerlo y comprueba cómo quedarán los valores de las características después de la transformación. Por cierto, la propiedad de invertibilidad es importante aquí, así que asegúrate de que $P$ sea realmente invertible.\n",
    "\n",
    "Puedes revisar la lección 'Matrices y operaciones matriciales -> Multiplicación de matrices' para recordar la regla de multiplicación de matrices y su implementación con NumPy."
   ]
  },
  {
   "cell_type": "code",
   "execution_count": 29,
   "metadata": {},
   "outputs": [],
   "source": [
    "personal_info_column_list = ['gender', 'age', 'income', 'family_members']\n",
    "df_pn = df[personal_info_column_list]"
   ]
  },
  {
   "cell_type": "code",
   "execution_count": 30,
   "metadata": {},
   "outputs": [],
   "source": [
    "X = df_pn.to_numpy()"
   ]
  },
  {
   "cell_type": "markdown",
   "metadata": {},
   "source": [
    "Generar una matriz aleatoria $P$."
   ]
  },
  {
   "cell_type": "code",
   "execution_count": 31,
   "metadata": {},
   "outputs": [],
   "source": [
    "rng = np.random.default_rng(seed=42)\n",
    "P = rng.random(size=(X.shape[1], X.shape[1]))"
   ]
  },
  {
   "cell_type": "markdown",
   "metadata": {},
   "source": [
    "Comprobar que la matriz P sea invertible"
   ]
  },
  {
   "cell_type": "code",
   "execution_count": 32,
   "metadata": {},
   "outputs": [
    {
     "name": "stdout",
     "output_type": "stream",
     "text": [
      "La matriz P es invertible.\n"
     ]
    }
   ],
   "source": [
    "if np.linalg.det(P) == 0:\n",
    "    print(\"La matriz P no es invertible. Genera una nueva matriz.\")\n",
    "else:\n",
    "    print(\"La matriz P es invertible.\")\n",
    "\n",
    "    # Ocultar los datos \n",
    "X_ofuscado = X @ P"
   ]
  },
  {
   "cell_type": "markdown",
   "metadata": {},
   "source": [
    "¿Puedes adivinar la edad o los ingresos de los clientes después de la transformación?"
   ]
  },
  {
   "cell_type": "markdown",
   "metadata": {},
   "source": [
    "No se pueden adivinar ya al invertir una matriz aleatoria P se alteran los valores originales de manera significativa por lo que no se podria adivinar de manera exacta, a menos que conozcas la matriz 𝑃 para invertir la transformación."
   ]
  },
  {
   "cell_type": "markdown",
   "metadata": {},
   "source": [
    "¿Puedes recuperar los datos originales de $X'$ si conoces $P$? Intenta comprobarlo a través de los cálculos moviendo $P$ del lado derecho de la fórmula anterior al izquierdo. En este caso las reglas de la multiplicación matricial son realmente útiles"
   ]
  },
  {
   "cell_type": "markdown",
   "metadata": {},
   "source": [
    "Si es posible recuperar los datos originales, esto se puede realizar aplicando la matriz inversa y utilizando la formula correspondiente para este paso, la cual es x= x . P -1"
   ]
  },
  {
   "cell_type": "markdown",
   "metadata": {},
   "source": [
    "Muestra los tres casos para algunos clientes- Datos originales\n",
    "- El que está transformado- El que está invertido (recuperado)"
   ]
  },
  {
   "cell_type": "code",
   "execution_count": 33,
   "metadata": {},
   "outputs": [
    {
     "name": "stdout",
     "output_type": "stream",
     "text": [
      "Datos originales:\n",
      " [[1.00e+00 4.10e+01 4.96e+04 1.00e+00]\n",
      " [0.00e+00 4.60e+01 3.80e+04 1.00e+00]\n",
      " [0.00e+00 2.90e+01 2.10e+04 0.00e+00]]\n",
      "Datos transformados (X'):\n",
      " [[ 6359.71527314 22380.40467609 18424.09074184 46000.69669016]\n",
      " [ 4873.29406479 17160.36702982 14125.78076133 35253.45577301]\n",
      " [ 2693.11742928  9486.397744    7808.83156024 19484.86063067]]\n",
      "Datos recuperados:\n",
      " [[ 1.00000000e+00  4.10000000e+01  4.96000000e+04  1.00000000e+00]\n",
      " [-4.47363596e-12  4.60000000e+01  3.80000000e+04  1.00000000e+00]\n",
      " [-2.51586878e-12  2.90000000e+01  2.10000000e+04  9.52452315e-13]]\n"
     ]
    }
   ],
   "source": [
    "# Calculo de la matriz inversa de P\n",
    "P_inv = np.linalg.inv(P)\n",
    "\n",
    "# Recuperación los datos originales de X_ofuscado\n",
    "X_recuperado = X_ofuscado @ P_inv\n",
    "\n",
    "# Mostrar los tres casos: Datos originales, transformados y recuperados\n",
    "print(\"Datos originales:\\n\", X[:3])\n",
    "print(\"Datos transformados (X'):\\n\", X_ofuscado[:3])\n",
    "print(\"Datos recuperados:\\n\", X_recuperado[:3])"
   ]
  },
  {
   "cell_type": "markdown",
   "metadata": {},
   "source": [
    "Seguramente puedes ver que algunos valores no son exactamente iguales a los de los datos originales. ¿Cuál podría ser la razón de ello?"
   ]
  },
  {
   "cell_type": "markdown",
   "metadata": {},
   "source": [
    "Esto se debe a la menera en que las bibliotecas almacen los datos ya que se pierden decimales en el proceso ya que los datos son almacenados  con precisión finita y no infinita como las matematicas."
   ]
  },
  {
   "cell_type": "markdown",
   "metadata": {},
   "source": [
    "## Prueba de que la ofuscación de datos puede funcionar con regresión lineal"
   ]
  },
  {
   "cell_type": "markdown",
   "metadata": {},
   "source": [
    "En este proyecto la tarea de regresión se ha resuelto con la regresión lineal. Tu siguiente tarea es demostrar _analytically_ que el método de ofuscación no afectará a la regresión lineal en términos de valores predichos, es decir, que sus valores seguirán siendo los mismos. ¿Lo puedes creer? Pues no hace falta que lo creas, ¡tienes que que demostrarlo!"
   ]
  },
  {
   "cell_type": "markdown",
   "metadata": {},
   "source": [
    "Entonces, los datos están ofuscados y ahora tenemos $X \\times P$ en lugar de tener solo $X$. En consecuencia, hay otros pesos $w_P$ como\n",
    "$$\n",
    "w = (X^T X)^{-1} X^T y \\quad \\Rightarrow \\quad w_P = [(XP)^T XP]^{-1} (XP)^T y\n",
    "$$\n",
    "\n",
    "**¿Cómo se relacionarían $w$ y $w_P$ si simplificáramos la fórmula de $w_P$ anterior?**\n",
    "\n",
    "Los pesos 𝑤 y 𝑤𝑃 están relacionados por la matriz de ofuscación P,  en otras palabras, wP es una transformación lineal de w mediada por 𝑃−1.\n",
    "\n",
    "**¿Cuáles serían los valores predichos con $w_P$?** \n",
    "los valores predichos, 𝑦^𝑃, son idénticos a los valores predichos con los datos originales 𝑦^. La transformación no cambia los resultados de la predicción.\n",
    "\n",
    "**¿Qué significa esto para la calidad de la regresión lineal si esta se mide mediante la RECM?**\n",
    "La ofuscación no alteran los resultados de la predicción lineal ya que el error cuadrático medio (ECM) y la raíz del error cuadrático medio (RECM) permanecen iguales, logrando así proteger los datos sin afectar el rendimiento del modelo.\n",
    "\n",
    "Revisa el Apéndice B Propiedades de las matrices al final del cuaderno. ¡Allí encontrarás fórmulas muy útiles!\n",
    "\n",
    "No es necesario escribir código en esta sección, basta con una explicación analítica."
   ]
  },
  {
   "cell_type": "markdown",
   "metadata": {},
   "source": [
    "**Respuesta**"
   ]
  },
  {
   "cell_type": "markdown",
   "metadata": {},
   "source": []
  },
  {
   "cell_type": "markdown",
   "metadata": {},
   "source": [
    "**Prueba analítica**"
   ]
  },
  {
   "cell_type": "markdown",
   "metadata": {},
   "source": []
  },
  {
   "cell_type": "markdown",
   "metadata": {},
   "source": [
    "## Prueba de regresión lineal con ofuscación de datos"
   ]
  },
  {
   "cell_type": "markdown",
   "metadata": {},
   "source": [
    "Ahora, probemos que la regresión lineal pueda funcionar, en términos computacionales, con la transformación de ofuscación elegida.\n",
    "Construye un procedimiento o una clase que ejecute la regresión lineal opcionalmente con la ofuscación. Puedes usar una implementación de regresión lineal de scikit-learn o tu propia implementación.\n",
    "Ejecuta la regresión lineal para los datos originales y los ofuscados, compara los valores predichos y los valores de las métricas RMSE y $R^2$. ¿Hay alguna diferencia?"
   ]
  },
  {
   "cell_type": "markdown",
   "metadata": {},
   "source": [
    "**Procedimiento**\n",
    "\n",
    "- Crea una matriz cuadrada $P$ de números aleatorios.- Comprueba que sea invertible. Si no lo es, repite el primer paso hasta obtener una matriz invertible.- <¡ tu comentario aquí !>\n",
    "- Utiliza $XP$ como la nueva matriz de características"
   ]
  },
  {
   "cell_type": "code",
   "execution_count": 34,
   "metadata": {},
   "outputs": [
    {
     "name": "stdout",
     "output_type": "stream",
     "text": [
      "La matriz P es invertible.\n"
     ]
    }
   ],
   "source": [
    "np.random.seed(42)\n",
    "P = np.random.rand(X.shape[1], X.shape[1])\n",
    "\n",
    "# Comprobación de si P es invertible\n",
    "if np.linalg.det(P) == 0:\n",
    "    print(\"La matriz P no es invertible. Genera una nueva matriz.\")\n",
    "else:\n",
    "    print(\"La matriz P es invertible.\")\n"
   ]
  },
  {
   "cell_type": "code",
   "execution_count": 35,
   "metadata": {},
   "outputs": [],
   "source": [
    " X_ofuscado = X @ P"
   ]
  },
  {
   "cell_type": "code",
   "execution_count": 36,
   "metadata": {},
   "outputs": [
    {
     "name": "stdout",
     "output_type": "stream",
     "text": [
      "Resultados con datos originales: RMSE = 0.34, R2 = 0.43\n",
      "Resultados con datos ofuscados: RMSE = 0.34, R2 = 0.43\n"
     ]
    }
   ],
   "source": [
    "model = LinearRegression()\n",
    "model.fit(X_train, y_train)\n",
    "y_pred = model.predict(X_test)\n",
    "rmse_original = np.sqrt(mean_squared_error(y_test, y_pred))\n",
    "r2_original = r2_score(y_test, y_pred)\n",
    "\n",
    "# Aplicación de regresión lineal a los datos ofuscados\n",
    "model.fit(X_train @ P, y_train) \n",
    "y_pred_ofuscado = model.predict(X_test @ P)\n",
    "rmse_ofuscado = np.sqrt(mean_squared_error(y_test, y_pred_ofuscado))\n",
    "r2_ofuscado = r2_score(y_test, y_pred_ofuscado)\n",
    "\n",
    "# Resultados\n",
    "print(f\"Resultados con datos originales: RMSE = {rmse_original:.2f}, R2 = {r2_original:.2f}\")\n",
    "print(f\"Resultados con datos ofuscados: RMSE = {rmse_ofuscado:.2f}, R2 = {r2_ofuscado:.2f}\")"
   ]
  },
  {
   "cell_type": "markdown",
   "metadata": {},
   "source": [
    "Estos resultados muestran que la ofuscación mediante multiplicación con una matriz invertible P no afectó la calidad de la regresión lineal."
   ]
  },
  {
   "cell_type": "markdown",
   "metadata": {},
   "source": [
    "# Conclusiones"
   ]
  },
  {
   "cell_type": "markdown",
   "metadata": {},
   "source": [
    "En base a las actividades realizadas en este proyecto podemos resaltar las siguientes conclusiónes:\n",
    "**1° La importancia del escalado de caracteristicas para el modelo (kNN):** Hubo una gran diferencia positiva al escala los datos en la presición del modelo por lo que resalto como el preprocesamiento adecuado puede mejorar la precisión y confiabilidad de los modelos.\n",
    "**2° Eficiencia de la Ofuscación de Datos:** La técnica de ofuscación utilizada, mediante la multiplicación con una matriz invertible, logró proteger los datos sin adectar la precisión en los modelos de regresión lineal ya que se comprobo que se obtuvieron los mismos resultados y se mantuvo intacta las relaciones lineales, por lo que se garantiza un modelo bien elaborado y seguro , por lo que se puede trabajar con datos sensibles de una manera segura sin afectar los resultados logrando un **balance entre Privacidad y Precisión**"
   ]
  },
  {
   "cell_type": "markdown",
   "metadata": {},
   "source": [
    "# Apéndices\n",
    "\n",
    "## Apéndice A: Escribir fórmulas en los cuadernos de Jupyter"
   ]
  },
  {
   "cell_type": "markdown",
   "metadata": {},
   "source": [
    "Puedes escribir fórmulas en tu Jupyter Notebook utilizando un lenguaje de marcado proporcionado por un sistema de publicación de alta calidad llamado $\\LaTeX$ (se pronuncia como \"Lah-tech\"). Las fórmulas se verán como las de los libros de texto.\n",
    "\n",
    "Para incorporar una fórmula a un texto, pon el signo de dólar (\\\\$) antes y después del texto de la fórmula, por ejemplo: $\\frac{1}{2} \\times \\frac{3}{2} = \\frac{3}{4}$ or $y = x^2, x \\ge 1$.\n",
    "\n",
    "Si una fórmula debe estar en el mismo párrafo, pon el doble signo de dólar (\\\\$\\\\$) antes y después del texto de la fórmula, por ejemplo:\n",
    "$$\n",
    "\\bar{x} = \\frac{1}{n}\\sum_{i=1}^{n} x_i.\n",
    "$$\n",
    "\n",
    "El lenguaje de marcado de [LaTeX](https://es.wikipedia.org/wiki/LaTeX) es muy popular entre las personas que utilizan fórmulas en sus artículos, libros y textos. Puede resultar complicado, pero sus fundamentos son sencillos. Consulta esta [ficha de ayuda](http://tug.ctan.org/info/undergradmath/undergradmath.pdf) (materiales en inglés) de dos páginas para aprender a componer las fórmulas más comunes."
   ]
  },
  {
   "cell_type": "markdown",
   "metadata": {},
   "source": [
    "## Apéndice B: Propiedades de las matrices"
   ]
  },
  {
   "cell_type": "markdown",
   "metadata": {},
   "source": [
    "Las matrices tienen muchas propiedades en cuanto al álgebra lineal. Aquí se enumeran algunas de ellas que pueden ayudarte a la hora de realizar la prueba analítica de este proyecto."
   ]
  },
  {
   "cell_type": "markdown",
   "metadata": {},
   "source": [
    "<table>\n",
    "<tr>\n",
    "<td>Distributividad</td><td>$A(B+C)=AB+AC$</td>\n",
    "</tr>\n",
    "<tr>\n",
    "<td>No conmutatividad</td><td>$AB \\neq BA$</td>\n",
    "</tr>\n",
    "<tr>\n",
    "<td>Propiedad asociativa de la multiplicación</td><td>$(AB)C = A(BC)$</td>\n",
    "</tr>\n",
    "<tr>\n",
    "<td>Propiedad de identidad multiplicativa</td><td>$IA = AI = A$</td>\n",
    "</tr>\n",
    "<tr>\n",
    "<td></td><td>$A^{-1}A = AA^{-1} = I$\n",
    "</td>\n",
    "</tr>    \n",
    "<tr>\n",
    "<td></td><td>$(AB)^{-1} = B^{-1}A^{-1}$</td>\n",
    "</tr>    \n",
    "<tr>\n",
    "<td>Reversibilidad de la transposición de un producto de matrices,</td><td>$(AB)^T = B^TA^T$</td>\n",
    "</tr>    \n",
    "</table>"
   ]
  }
 ],
 "metadata": {
  "ExecuteTimeLog": [
   {
    "duration": 2362,
    "start_time": "2024-11-06T21:03:58.590Z"
   },
   {
    "duration": 3415,
    "start_time": "2024-11-06T21:05:29.276Z"
   },
   {
    "duration": 2680,
    "start_time": "2024-11-06T21:07:00.037Z"
   },
   {
    "duration": 2638,
    "start_time": "2024-11-06T21:07:53.673Z"
   },
   {
    "duration": 2184,
    "start_time": "2024-11-06T21:08:04.133Z"
   },
   {
    "duration": 17,
    "start_time": "2024-11-06T21:08:12.961Z"
   },
   {
    "duration": 5,
    "start_time": "2024-11-06T21:11:49.149Z"
   },
   {
    "duration": 13,
    "start_time": "2024-11-06T21:11:51.524Z"
   },
   {
    "duration": 10,
    "start_time": "2024-11-06T21:13:40.887Z"
   },
   {
    "duration": 4,
    "start_time": "2024-11-06T21:20:37.022Z"
   },
   {
    "duration": 11,
    "start_time": "2024-11-06T21:20:48.047Z"
   },
   {
    "duration": 17,
    "start_time": "2024-11-06T21:22:06.019Z"
   },
   {
    "duration": 343,
    "start_time": "2024-11-06T21:29:27.065Z"
   },
   {
    "duration": 451,
    "start_time": "2024-11-06T21:29:46.736Z"
   },
   {
    "duration": 3,
    "start_time": "2024-11-06T21:41:29.464Z"
   },
   {
    "duration": 4,
    "start_time": "2024-11-06T21:44:02.698Z"
   },
   {
    "duration": 10,
    "start_time": "2024-11-06T21:45:55.740Z"
   },
   {
    "duration": 10,
    "start_time": "2024-11-06T21:46:17.534Z"
   },
   {
    "duration": 25,
    "start_time": "2024-11-06T21:47:51.816Z"
   },
   {
    "duration": 3,
    "start_time": "2024-11-06T21:48:57.112Z"
   },
   {
    "duration": 12,
    "start_time": "2024-11-06T21:49:02.616Z"
   },
   {
    "duration": 4,
    "start_time": "2024-11-06T21:49:58.051Z"
   },
   {
    "duration": 8,
    "start_time": "2024-11-06T21:49:59.897Z"
   },
   {
    "duration": 8,
    "start_time": "2024-11-06T21:50:01.704Z"
   },
   {
    "duration": 12,
    "start_time": "2024-11-06T21:50:05.218Z"
   },
   {
    "duration": 4,
    "start_time": "2024-11-06T21:50:23.610Z"
   },
   {
    "duration": 8,
    "start_time": "2024-11-06T21:50:26.329Z"
   },
   {
    "duration": 8,
    "start_time": "2024-11-06T21:50:27.939Z"
   },
   {
    "duration": 12,
    "start_time": "2024-11-06T21:50:30.212Z"
   },
   {
    "duration": 4,
    "start_time": "2024-11-06T21:51:50.199Z"
   },
   {
    "duration": 8,
    "start_time": "2024-11-06T21:51:53.058Z"
   },
   {
    "duration": 9,
    "start_time": "2024-11-06T21:51:54.682Z"
   },
   {
    "duration": 11,
    "start_time": "2024-11-06T21:51:56.996Z"
   },
   {
    "duration": 160,
    "start_time": "2024-11-06T22:22:33.403Z"
   },
   {
    "duration": 4394,
    "start_time": "2024-11-06T22:22:48.804Z"
   },
   {
    "duration": 2174,
    "start_time": "2024-11-06T22:22:55.469Z"
   },
   {
    "duration": 14,
    "start_time": "2024-11-06T22:22:58.187Z"
   },
   {
    "duration": 4,
    "start_time": "2024-11-06T22:23:00.249Z"
   },
   {
    "duration": 13,
    "start_time": "2024-11-06T22:23:02.565Z"
   },
   {
    "duration": 10,
    "start_time": "2024-11-06T22:23:05.509Z"
   },
   {
    "duration": 3,
    "start_time": "2024-11-06T22:23:08.824Z"
   },
   {
    "duration": 9,
    "start_time": "2024-11-06T22:23:10.445Z"
   },
   {
    "duration": 14,
    "start_time": "2024-11-06T22:23:24.887Z"
   },
   {
    "duration": 400,
    "start_time": "2024-11-06T22:23:28.098Z"
   },
   {
    "duration": 2571,
    "start_time": "2024-11-06T22:23:33.909Z"
   },
   {
    "duration": 3,
    "start_time": "2024-11-06T22:23:40.169Z"
   },
   {
    "duration": 4,
    "start_time": "2024-11-06T22:23:42.234Z"
   },
   {
    "duration": 8,
    "start_time": "2024-11-06T22:23:45.342Z"
   },
   {
    "duration": 8,
    "start_time": "2024-11-06T22:23:47.547Z"
   },
   {
    "duration": 17,
    "start_time": "2024-11-06T22:23:53.193Z"
   },
   {
    "duration": 21,
    "start_time": "2024-11-06T22:23:55.177Z"
   },
   {
    "duration": 5,
    "start_time": "2024-11-07T15:10:19.205Z"
   },
   {
    "duration": 4327,
    "start_time": "2024-11-07T15:10:25.181Z"
   },
   {
    "duration": 2596,
    "start_time": "2024-11-07T15:10:40.433Z"
   },
   {
    "duration": 2078,
    "start_time": "2024-11-07T15:10:46.048Z"
   },
   {
    "duration": 14,
    "start_time": "2024-11-07T15:10:52.159Z"
   },
   {
    "duration": 3,
    "start_time": "2024-11-07T15:10:56.566Z"
   },
   {
    "duration": 11,
    "start_time": "2024-11-07T15:10:58.568Z"
   },
   {
    "duration": 10,
    "start_time": "2024-11-07T15:11:00.797Z"
   },
   {
    "duration": 3,
    "start_time": "2024-11-07T15:11:03.116Z"
   },
   {
    "duration": 9,
    "start_time": "2024-11-07T15:11:04.841Z"
   },
   {
    "duration": 14,
    "start_time": "2024-11-07T15:11:07.080Z"
   },
   {
    "duration": 394,
    "start_time": "2024-11-07T15:11:10.094Z"
   },
   {
    "duration": 2527,
    "start_time": "2024-11-07T15:11:20.677Z"
   },
   {
    "duration": 3,
    "start_time": "2024-11-07T15:11:26.876Z"
   },
   {
    "duration": 4,
    "start_time": "2024-11-07T15:11:29.285Z"
   },
   {
    "duration": 10,
    "start_time": "2024-11-07T15:11:34.109Z"
   },
   {
    "duration": 8,
    "start_time": "2024-11-07T15:11:35.786Z"
   },
   {
    "duration": 10,
    "start_time": "2024-11-07T15:11:41.379Z"
   },
   {
    "duration": 11,
    "start_time": "2024-11-07T15:11:44.146Z"
   },
   {
    "duration": 3,
    "start_time": "2024-11-07T15:11:47.940Z"
   },
   {
    "duration": 4,
    "start_time": "2024-11-07T15:12:04.489Z"
   },
   {
    "duration": 89,
    "start_time": "2024-11-07T15:12:11.853Z"
   },
   {
    "duration": 8,
    "start_time": "2024-11-07T15:18:47.516Z"
   },
   {
    "duration": 4,
    "start_time": "2024-11-07T15:18:50.835Z"
   },
   {
    "duration": 4,
    "start_time": "2024-11-07T15:23:19.079Z"
   },
   {
    "duration": 2,
    "start_time": "2024-11-07T15:25:43.575Z"
   },
   {
    "duration": 6,
    "start_time": "2024-11-07T15:25:47.871Z"
   },
   {
    "duration": 243,
    "start_time": "2024-11-07T15:26:02.940Z"
   },
   {
    "duration": 4,
    "start_time": "2024-11-07T15:26:13.172Z"
   },
   {
    "duration": 3,
    "start_time": "2024-11-07T15:26:16.445Z"
   },
   {
    "duration": 26,
    "start_time": "2024-11-07T15:26:18.261Z"
   },
   {
    "duration": 3,
    "start_time": "2024-11-07T15:26:59.336Z"
   },
   {
    "duration": 14,
    "start_time": "2024-11-07T15:27:06.752Z"
   },
   {
    "duration": 17,
    "start_time": "2024-11-07T17:57:41.678Z"
   },
   {
    "duration": 22,
    "start_time": "2024-11-07T18:00:16.795Z"
   },
   {
    "duration": 3,
    "start_time": "2024-11-07T18:00:35.967Z"
   },
   {
    "duration": 24,
    "start_time": "2024-11-07T18:00:41.636Z"
   },
   {
    "duration": 4,
    "start_time": "2024-11-07T18:01:05.526Z"
   },
   {
    "duration": 586,
    "start_time": "2024-11-07T18:01:11.757Z"
   },
   {
    "duration": 11,
    "start_time": "2024-11-07T18:04:00.238Z"
   },
   {
    "duration": 294,
    "start_time": "2024-11-07T18:04:01.966Z"
   },
   {
    "duration": 292,
    "start_time": "2024-11-07T18:04:05.072Z"
   },
   {
    "duration": 5,
    "start_time": "2024-11-07T18:19:12.200Z"
   },
   {
    "duration": 3,
    "start_time": "2024-11-07T18:23:44.165Z"
   },
   {
    "duration": 105,
    "start_time": "2024-11-07T18:23:47.226Z"
   },
   {
    "duration": 4,
    "start_time": "2024-11-07T18:24:09.810Z"
   },
   {
    "duration": 27,
    "start_time": "2024-11-07T18:24:17.274Z"
   },
   {
    "duration": 4,
    "start_time": "2024-11-07T18:24:31.210Z"
   },
   {
    "duration": 12,
    "start_time": "2024-11-07T18:24:36.337Z"
   },
   {
    "duration": 4,
    "start_time": "2024-11-07T18:36:10.067Z"
   },
   {
    "duration": 2,
    "start_time": "2024-11-07T18:36:12.269Z"
   },
   {
    "duration": 3,
    "start_time": "2024-11-07T18:36:14.908Z"
   },
   {
    "duration": 4,
    "start_time": "2024-11-07T18:36:32.761Z"
   },
   {
    "duration": 3,
    "start_time": "2024-11-07T18:39:57.961Z"
   },
   {
    "duration": 4,
    "start_time": "2024-11-07T18:46:58.549Z"
   },
   {
    "duration": 6,
    "start_time": "2024-11-07T19:11:10.734Z"
   },
   {
    "duration": 3,
    "start_time": "2024-11-07T19:11:16.199Z"
   },
   {
    "duration": 4,
    "start_time": "2024-11-07T19:11:18.405Z"
   },
   {
    "duration": 4,
    "start_time": "2024-11-07T19:11:46.302Z"
   },
   {
    "duration": 5,
    "start_time": "2024-11-07T19:11:58.478Z"
   },
   {
    "duration": 3,
    "start_time": "2024-11-07T19:12:02.107Z"
   },
   {
    "duration": 6,
    "start_time": "2024-11-07T19:12:05.063Z"
   },
   {
    "duration": 20,
    "start_time": "2024-11-07T19:14:25.257Z"
   },
   {
    "duration": 4,
    "start_time": "2024-11-07T19:15:59.587Z"
   },
   {
    "duration": 10,
    "start_time": "2024-11-07T19:16:09.232Z"
   },
   {
    "duration": 9,
    "start_time": "2024-11-07T19:22:39.642Z"
   },
   {
    "duration": 4391,
    "start_time": "2024-11-08T11:39:47.732Z"
   },
   {
    "duration": 2151,
    "start_time": "2024-11-08T11:39:52.125Z"
   },
   {
    "duration": 14,
    "start_time": "2024-11-08T11:39:54.277Z"
   },
   {
    "duration": 3,
    "start_time": "2024-11-08T11:39:54.293Z"
   },
   {
    "duration": 11,
    "start_time": "2024-11-08T11:39:54.298Z"
   },
   {
    "duration": 9,
    "start_time": "2024-11-08T11:39:54.311Z"
   },
   {
    "duration": 4,
    "start_time": "2024-11-08T11:39:54.321Z"
   },
   {
    "duration": 8,
    "start_time": "2024-11-08T11:39:54.343Z"
   },
   {
    "duration": 13,
    "start_time": "2024-11-08T11:39:54.353Z"
   },
   {
    "duration": 537,
    "start_time": "2024-11-08T11:39:54.369Z"
   },
   {
    "duration": 2559,
    "start_time": "2024-11-08T11:39:54.908Z"
   },
   {
    "duration": 3,
    "start_time": "2024-11-08T11:39:57.469Z"
   },
   {
    "duration": 4,
    "start_time": "2024-11-08T11:39:57.474Z"
   },
   {
    "duration": 7,
    "start_time": "2024-11-08T11:39:57.480Z"
   },
   {
    "duration": 8,
    "start_time": "2024-11-08T11:39:57.489Z"
   },
   {
    "duration": 17,
    "start_time": "2024-11-08T11:39:57.499Z"
   },
   {
    "duration": 38,
    "start_time": "2024-11-08T11:39:57.518Z"
   },
   {
    "duration": 4,
    "start_time": "2024-11-08T11:39:57.558Z"
   },
   {
    "duration": 4,
    "start_time": "2024-11-08T11:39:57.564Z"
   },
   {
    "duration": 3,
    "start_time": "2024-11-08T11:39:57.570Z"
   },
   {
    "duration": 4,
    "start_time": "2024-11-08T11:39:57.575Z"
   },
   {
    "duration": 16,
    "start_time": "2024-11-08T11:39:57.580Z"
   },
   {
    "duration": 47,
    "start_time": "2024-11-08T11:39:57.598Z"
   },
   {
    "duration": 297,
    "start_time": "2024-11-08T11:39:57.647Z"
   },
   {
    "duration": 324,
    "start_time": "2024-11-08T11:39:57.946Z"
   },
   {
    "duration": 4,
    "start_time": "2024-11-08T11:39:58.272Z"
   },
   {
    "duration": 3,
    "start_time": "2024-11-08T11:39:58.278Z"
   },
   {
    "duration": 14,
    "start_time": "2024-11-08T11:39:58.285Z"
   },
   {
    "duration": 5,
    "start_time": "2024-11-08T11:39:58.344Z"
   },
   {
    "duration": 5,
    "start_time": "2024-11-08T11:39:58.353Z"
   },
   {
    "duration": 5,
    "start_time": "2024-11-08T11:39:58.361Z"
   },
   {
    "duration": 77,
    "start_time": "2024-11-08T11:39:58.367Z"
   },
   {
    "duration": 5,
    "start_time": "2024-11-08T11:39:58.446Z"
   },
   {
    "duration": 4,
    "start_time": "2024-11-08T11:39:58.453Z"
   },
   {
    "duration": 3,
    "start_time": "2024-11-08T11:39:58.459Z"
   },
   {
    "duration": 82,
    "start_time": "2024-11-08T11:39:58.464Z"
   },
   {
    "duration": 5,
    "start_time": "2024-11-08T11:55:50.510Z"
   }
  ],
  "kernelspec": {
   "display_name": "Python 3 (ipykernel)",
   "language": "python",
   "name": "python3"
  },
  "language_info": {
   "codemirror_mode": {
    "name": "ipython",
    "version": 3
   },
   "file_extension": ".py",
   "mimetype": "text/x-python",
   "name": "python",
   "nbconvert_exporter": "python",
   "pygments_lexer": "ipython3",
   "version": "3.9.19"
  },
  "toc": {
   "base_numbering": 1,
   "nav_menu": {},
   "number_sections": true,
   "sideBar": true,
   "skip_h1_title": true,
   "title_cell": "Table of Contents",
   "title_sidebar": "Contents",
   "toc_cell": false,
   "toc_position": {},
   "toc_section_display": true,
   "toc_window_display": false
  }
 },
 "nbformat": 4,
 "nbformat_minor": 4
}
